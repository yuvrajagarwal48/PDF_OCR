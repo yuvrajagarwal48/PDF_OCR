{
  "cells": [
    {
      "cell_type": "code",
      "execution_count": 1,
      "metadata": {
        "colab": {
          "base_uri": "https://localhost:8080/"
        },
        "id": "8Ha6Ij891Did",
        "outputId": "bc94efe3-620a-4ebd-9bdb-df32f691790c"
      },
      "outputs": [
        {
          "name": "stdout",
          "output_type": "stream",
          "text": [
            "\u001b[?25l     \u001b[90m━━━━━━━━━━━━━━━━━━━━━━━━━━━━━━━━━━━━━━━━\u001b[0m \u001b[32m0.0/709.4 kB\u001b[0m \u001b[31m?\u001b[0m eta \u001b[36m-:--:--\u001b[0m\r\u001b[2K     \u001b[91m━━━━━━━━━━━━━━━\u001b[0m\u001b[91m╸\u001b[0m\u001b[90m━━━━━━━━━━━━━━━━━━━━━━━━\u001b[0m \u001b[32m276.5/709.4 kB\u001b[0m \u001b[31m8.1 MB/s\u001b[0m eta \u001b[36m0:00:01\u001b[0m\r\u001b[2K     \u001b[91m━━━━━━━━━━━━━━━━━━━━━━━━━━━━━━━━━━━━━━━\u001b[0m\u001b[91m╸\u001b[0m \u001b[32m706.6/709.4 kB\u001b[0m \u001b[31m11.2 MB/s\u001b[0m eta \u001b[36m0:00:01\u001b[0m\r\u001b[2K     \u001b[90m━━━━━━━━━━━━━━━━━━━━━━━━━━━━━━━━━━━━━━━━\u001b[0m \u001b[32m709.4/709.4 kB\u001b[0m \u001b[31m9.6 MB/s\u001b[0m eta \u001b[36m0:00:00\u001b[0m\n",
            "\u001b[?25h"
          ]
        }
      ],
      "source": [
        "!pip install ultralytics --quiet"
      ]
    },
    {
      "cell_type": "code",
      "execution_count": 2,
      "metadata": {
        "colab": {
          "base_uri": "https://localhost:8080/"
        },
        "id": "lcYBnHkb1K7h",
        "outputId": "e6b5e183-e497-4d4e-fad8-c4653aebdb81"
      },
      "outputs": [
        {
          "name": "stdout",
          "output_type": "stream",
          "text": [
            "\u001b[2K     \u001b[90m━━━━━━━━━━━━━━━━━━━━━━━━━━━━━━━━━━━━━━━━\u001b[0m \u001b[32m465.7/465.7 kB\u001b[0m \u001b[31m7.2 MB/s\u001b[0m eta \u001b[36m0:00:00\u001b[0m\n",
            "\u001b[2K     \u001b[90m━━━━━━━━━━━━━━━━━━━━━━━━━━━━━━━━━━━━━━━━\u001b[0m \u001b[32m908.3/908.3 kB\u001b[0m \u001b[31m12.5 MB/s\u001b[0m eta \u001b[36m0:00:00\u001b[0m\n",
            "\u001b[2K     \u001b[90m━━━━━━━━━━━━━━━━━━━━━━━━━━━━━━━━━━━━━━━━\u001b[0m \u001b[32m299.2/299.2 kB\u001b[0m \u001b[31m13.9 MB/s\u001b[0m eta \u001b[36m0:00:00\u001b[0m\n",
            "\u001b[2K     \u001b[90m━━━━━━━━━━━━━━━━━━━━━━━━━━━━━━━━━━━━━━━━\u001b[0m \u001b[32m6.3/6.3 MB\u001b[0m \u001b[31m28.4 MB/s\u001b[0m eta \u001b[36m0:00:00\u001b[0m\n",
            "\u001b[2K     \u001b[90m━━━━━━━━━━━━━━━━━━━━━━━━━━━━━━━━━━━━━━━━\u001b[0m \u001b[32m3.4/3.4 MB\u001b[0m \u001b[31m45.4 MB/s\u001b[0m eta \u001b[36m0:00:00\u001b[0m\n",
            "\u001b[2K     \u001b[90m━━━━━━━━━━━━━━━━━━━━━━━━━━━━━━━━━━━━━━━━\u001b[0m \u001b[32m60.9/60.9 MB\u001b[0m \u001b[31m5.9 MB/s\u001b[0m eta \u001b[36m0:00:00\u001b[0m\n",
            "\u001b[2K     \u001b[90m━━━━━━━━━━━━━━━━━━━━━━━━━━━━━━━━━━━━━━━━\u001b[0m \u001b[32m67.1/67.1 MB\u001b[0m \u001b[31m7.0 MB/s\u001b[0m eta \u001b[36m0:00:00\u001b[0m\n",
            "\u001b[2K     \u001b[90m━━━━━━━━━━━━━━━━━━━━━━━━━━━━━━━━━━━━━━━━\u001b[0m \u001b[32m8.9/8.9 MB\u001b[0m \u001b[31m49.8 MB/s\u001b[0m eta \u001b[36m0:00:00\u001b[0m\n",
            "\u001b[2K     \u001b[90m━━━━━━━━━━━━━━━━━━━━━━━━━━━━━━━━━━━━━━━━\u001b[0m \u001b[32m4.5/4.5 MB\u001b[0m \u001b[31m43.9 MB/s\u001b[0m eta \u001b[36m0:00:00\u001b[0m\n",
            "\u001b[2K     \u001b[90m━━━━━━━━━━━━━━━━━━━━━━━━━━━━━━━━━━━━━━━━\u001b[0m \u001b[32m239.6/239.6 kB\u001b[0m \u001b[31m28.7 MB/s\u001b[0m eta \u001b[36m0:00:00\u001b[0m\n",
            "\u001b[2K     \u001b[90m━━━━━━━━━━━━━━━━━━━━━━━━━━━━━━━━━━━━━━━━\u001b[0m \u001b[32m88.3/88.3 kB\u001b[0m \u001b[31m10.9 MB/s\u001b[0m eta \u001b[36m0:00:00\u001b[0m\n",
            "\u001b[?25h  Preparing metadata (setup.py) ... \u001b[?25l\u001b[?25hdone\n",
            "\u001b[2K     \u001b[90m━━━━━━━━━━━━━━━━━━━━━━━━━━━━━━━━━━━━━━━━\u001b[0m \u001b[32m132.0/132.0 kB\u001b[0m \u001b[31m15.3 MB/s\u001b[0m eta \u001b[36m0:00:00\u001b[0m\n",
            "\u001b[2K     \u001b[90m━━━━━━━━━━━━━━━━━━━━━━━━━━━━━━━━━━━━━━━━\u001b[0m \u001b[32m398.5/398.5 kB\u001b[0m \u001b[31m31.0 MB/s\u001b[0m eta \u001b[36m0:00:00\u001b[0m\n",
            "\u001b[2K     \u001b[90m━━━━━━━━━━━━━━━━━━━━━━━━━━━━━━━━━━━━━━━━\u001b[0m \u001b[32m300.8/300.8 kB\u001b[0m \u001b[31m19.1 MB/s\u001b[0m eta \u001b[36m0:00:00\u001b[0m\n",
            "\u001b[2K     \u001b[90m━━━━━━━━━━━━━━━━━━━━━━━━━━━━━━━━━━━━━━━━\u001b[0m \u001b[32m3.6/3.6 MB\u001b[0m \u001b[31m50.4 MB/s\u001b[0m eta \u001b[36m0:00:00\u001b[0m\n",
            "\u001b[2K     \u001b[90m━━━━━━━━━━━━━━━━━━━━━━━━━━━━━━━━━━━━━━━━\u001b[0m \u001b[32m2.1/2.1 MB\u001b[0m \u001b[31m63.1 MB/s\u001b[0m eta \u001b[36m0:00:00\u001b[0m\n",
            "\u001b[?25h  Building wheel for fire (setup.py) ... \u001b[?25l\u001b[?25hdone\n",
            "\u001b[2K     \u001b[90m━━━━━━━━━━━━━━━━━━━━━━━━━━━━━━━━━━━━━━━━\u001b[0m \u001b[32m125.7/125.7 MB\u001b[0m \u001b[31m8.5 MB/s\u001b[0m eta \u001b[36m0:00:00\u001b[0m\n",
            "\u001b[2K     \u001b[90m━━━━━━━━━━━━━━━━━━━━━━━━━━━━━━━━━━━━━━━━\u001b[0m \u001b[32m75.9/75.9 kB\u001b[0m \u001b[31m9.6 MB/s\u001b[0m eta \u001b[36m0:00:00\u001b[0m\n",
            "\u001b[2K     \u001b[90m━━━━━━━━━━━━━━━━━━━━━━━━━━━━━━━━━━━━━━━━\u001b[0m \u001b[32m76.9/76.9 kB\u001b[0m \u001b[31m9.1 MB/s\u001b[0m eta \u001b[36m0:00:00\u001b[0m\n",
            "\u001b[2K     \u001b[90m━━━━━━━━━━━━━━━━━━━━━━━━━━━━━━━━━━━━━━━━\u001b[0m \u001b[32m58.3/58.3 kB\u001b[0m \u001b[31m7.3 MB/s\u001b[0m eta \u001b[36m0:00:00\u001b[0m\n",
            "\u001b[?25h"
          ]
        }
      ],
      "source": [
        "!pip install paddleocr --upgrade --quiet\n",
        "!pip install paddlepaddle --quiet"
      ]
    },
    {
      "cell_type": "code",
      "execution_count": 3,
      "metadata": {
        "colab": {
          "base_uri": "https://localhost:8080/"
        },
        "id": "uhPs3NNf2P0z",
        "outputId": "62df01ec-3383-4a0e-9f59-a9b5d7d777b8"
      },
      "outputs": [
        {
          "name": "stdout",
          "output_type": "stream",
          "text": [
            "Reading package lists...\n",
            "Building dependency tree...\n",
            "Reading state information...\n",
            "libnss3 is already the newest version (2:3.68.2-0ubuntu1.2).\n",
            "libnss3 set to manually installed.\n",
            "The following NEW packages will be installed:\n",
            "  libnspr4-dev libnss3-dev\n",
            "0 upgraded, 2 newly installed, 0 to remove and 31 not upgraded.\n",
            "Need to get 460 kB of archives.\n",
            "After this operation, 2,668 kB of additional disk space will be used.\n",
            "Get:1 http://archive.ubuntu.com/ubuntu jammy/main amd64 libnspr4-dev amd64 2:4.32-3build1 [218 kB]\n",
            "Get:2 http://archive.ubuntu.com/ubuntu jammy-updates/main amd64 libnss3-dev amd64 2:3.68.2-0ubuntu1.2 [242 kB]\n",
            "Fetched 460 kB in 1s (355 kB/s)\n",
            "Selecting previously unselected package libnspr4-dev.\n",
            "(Reading database ... 121730 files and directories currently installed.)\n",
            "Preparing to unpack .../libnspr4-dev_2%3a4.32-3build1_amd64.deb ...\n",
            "Unpacking libnspr4-dev (2:4.32-3build1) ...\n",
            "Selecting previously unselected package libnss3-dev:amd64.\n",
            "Preparing to unpack .../libnss3-dev_2%3a3.68.2-0ubuntu1.2_amd64.deb ...\n",
            "Unpacking libnss3-dev:amd64 (2:3.68.2-0ubuntu1.2) ...\n",
            "Setting up libnspr4-dev (2:4.32-3build1) ...\n",
            "Setting up libnss3-dev:amd64 (2:3.68.2-0ubuntu1.2) ...\n",
            "Reading package lists...\n",
            "Building dependency tree...\n",
            "Reading state information...\n",
            "libgif-dev is already the newest version (5.1.9-2build2).\n",
            "libgif-dev set to manually installed.\n",
            "libjpeg-dev is already the newest version (8c-2ubuntu10).\n",
            "libjpeg-dev set to manually installed.\n",
            "The following additional packages will be installed:\n",
            "  libblkid-dev libcairo-script-interpreter2 libffi-dev libglib2.0-dev libglib2.0-dev-bin libice-dev\n",
            "  liblzo2-2 libmount-dev libpixman-1-dev libselinux1-dev libsepol-dev libsm-dev libxcb-render0-dev\n",
            "  libxcb-shm0-dev\n",
            "Suggested packages:\n",
            "  libcairo2-doc libgirepository1.0-dev libglib2.0-doc libgdk-pixbuf2.0-bin | libgdk-pixbuf2.0-dev\n",
            "  libxml2-utils libice-doc libsm-doc\n",
            "The following NEW packages will be installed:\n",
            "  libblkid-dev libcairo-script-interpreter2 libcairo2-dev libffi-dev libglib2.0-dev\n",
            "  libglib2.0-dev-bin libice-dev liblzo2-2 libmount-dev libpixman-1-dev libselinux1-dev libsepol-dev\n",
            "  libsm-dev libxcb-render0-dev libxcb-shm0-dev\n",
            "0 upgraded, 15 newly installed, 0 to remove and 31 not upgraded.\n",
            "Need to get 3,839 kB of archives.\n",
            "After this operation, 19.8 MB of additional disk space will be used.\n",
            "Get:1 http://archive.ubuntu.com/ubuntu jammy/main amd64 liblzo2-2 amd64 2.10-2build3 [53.7 kB]\n",
            "Get:2 http://archive.ubuntu.com/ubuntu jammy/main amd64 libcairo-script-interpreter2 amd64 1.16.0-5ubuntu2 [62.0 kB]\n",
            "Get:3 http://archive.ubuntu.com/ubuntu jammy/main amd64 libice-dev amd64 2:1.0.10-1build2 [51.4 kB]\n",
            "Get:4 http://archive.ubuntu.com/ubuntu jammy/main amd64 libsm-dev amd64 2:1.2.3-1build2 [18.1 kB]\n",
            "Get:5 http://archive.ubuntu.com/ubuntu jammy-updates/main amd64 libpixman-1-dev amd64 0.40.0-1ubuntu0.22.04.1 [280 kB]\n",
            "Get:6 http://archive.ubuntu.com/ubuntu jammy/main amd64 libxcb-render0-dev amd64 1.14-3ubuntu3 [19.6 kB]\n",
            "Get:7 http://archive.ubuntu.com/ubuntu jammy/main amd64 libxcb-shm0-dev amd64 1.14-3ubuntu3 [6,848 B]\n",
            "Get:8 http://archive.ubuntu.com/ubuntu jammy/main amd64 libffi-dev amd64 3.4.2-4 [63.7 kB]\n",
            "Get:9 http://archive.ubuntu.com/ubuntu jammy-updates/main amd64 libglib2.0-dev-bin amd64 2.72.4-0ubuntu2.2 [117 kB]\n",
            "Get:10 http://archive.ubuntu.com/ubuntu jammy/main amd64 libblkid-dev amd64 2.37.2-4ubuntu3 [185 kB]\n",
            "Get:11 http://archive.ubuntu.com/ubuntu jammy/main amd64 libsepol-dev amd64 3.3-1build1 [378 kB]\n",
            "Get:12 http://archive.ubuntu.com/ubuntu jammy/main amd64 libselinux1-dev amd64 3.3-1build2 [158 kB]\n",
            "Get:13 http://archive.ubuntu.com/ubuntu jammy/main amd64 libmount-dev amd64 2.37.2-4ubuntu3 [14.5 kB]\n",
            "Get:14 http://archive.ubuntu.com/ubuntu jammy-updates/main amd64 libglib2.0-dev amd64 2.72.4-0ubuntu2.2 [1,739 kB]\n",
            "Get:15 http://archive.ubuntu.com/ubuntu jammy/main amd64 libcairo2-dev amd64 1.16.0-5ubuntu2 [692 kB]\n",
            "Fetched 3,839 kB in 3s (1,328 kB/s)\n",
            "Selecting previously unselected package liblzo2-2:amd64.\n",
            "(Reading database ... 121929 files and directories currently installed.)\n",
            "Preparing to unpack .../00-liblzo2-2_2.10-2build3_amd64.deb ...\n",
            "Unpacking liblzo2-2:amd64 (2.10-2build3) ...\n",
            "Selecting previously unselected package libcairo-script-interpreter2:amd64.\n",
            "Preparing to unpack .../01-libcairo-script-interpreter2_1.16.0-5ubuntu2_amd64.deb ...\n",
            "Unpacking libcairo-script-interpreter2:amd64 (1.16.0-5ubuntu2) ...\n",
            "Selecting previously unselected package libice-dev:amd64.\n",
            "Preparing to unpack .../02-libice-dev_2%3a1.0.10-1build2_amd64.deb ...\n",
            "Unpacking libice-dev:amd64 (2:1.0.10-1build2) ...\n",
            "Selecting previously unselected package libsm-dev:amd64.\n",
            "Preparing to unpack .../03-libsm-dev_2%3a1.2.3-1build2_amd64.deb ...\n",
            "Unpacking libsm-dev:amd64 (2:1.2.3-1build2) ...\n",
            "Selecting previously unselected package libpixman-1-dev:amd64.\n",
            "Preparing to unpack .../04-libpixman-1-dev_0.40.0-1ubuntu0.22.04.1_amd64.deb ...\n",
            "Unpacking libpixman-1-dev:amd64 (0.40.0-1ubuntu0.22.04.1) ...\n",
            "Selecting previously unselected package libxcb-render0-dev:amd64.\n",
            "Preparing to unpack .../05-libxcb-render0-dev_1.14-3ubuntu3_amd64.deb ...\n",
            "Unpacking libxcb-render0-dev:amd64 (1.14-3ubuntu3) ...\n",
            "Selecting previously unselected package libxcb-shm0-dev:amd64.\n",
            "Preparing to unpack .../06-libxcb-shm0-dev_1.14-3ubuntu3_amd64.deb ...\n",
            "Unpacking libxcb-shm0-dev:amd64 (1.14-3ubuntu3) ...\n",
            "Selecting previously unselected package libffi-dev:amd64.\n",
            "Preparing to unpack .../07-libffi-dev_3.4.2-4_amd64.deb ...\n",
            "Unpacking libffi-dev:amd64 (3.4.2-4) ...\n",
            "Selecting previously unselected package libglib2.0-dev-bin.\n",
            "Preparing to unpack .../08-libglib2.0-dev-bin_2.72.4-0ubuntu2.2_amd64.deb ...\n",
            "Unpacking libglib2.0-dev-bin (2.72.4-0ubuntu2.2) ...\n",
            "Selecting previously unselected package libblkid-dev:amd64.\n",
            "Preparing to unpack .../09-libblkid-dev_2.37.2-4ubuntu3_amd64.deb ...\n",
            "Unpacking libblkid-dev:amd64 (2.37.2-4ubuntu3) ...\n",
            "Selecting previously unselected package libsepol-dev:amd64.\n",
            "Preparing to unpack .../10-libsepol-dev_3.3-1build1_amd64.deb ...\n",
            "Unpacking libsepol-dev:amd64 (3.3-1build1) ...\n",
            "Selecting previously unselected package libselinux1-dev:amd64.\n",
            "Preparing to unpack .../11-libselinux1-dev_3.3-1build2_amd64.deb ...\n",
            "Unpacking libselinux1-dev:amd64 (3.3-1build2) ...\n",
            "Selecting previously unselected package libmount-dev:amd64.\n",
            "Preparing to unpack .../12-libmount-dev_2.37.2-4ubuntu3_amd64.deb ...\n",
            "Unpacking libmount-dev:amd64 (2.37.2-4ubuntu3) ...\n",
            "Selecting previously unselected package libglib2.0-dev:amd64.\n",
            "Preparing to unpack .../13-libglib2.0-dev_2.72.4-0ubuntu2.2_amd64.deb ...\n",
            "Unpacking libglib2.0-dev:amd64 (2.72.4-0ubuntu2.2) ...\n",
            "Selecting previously unselected package libcairo2-dev:amd64.\n",
            "Preparing to unpack .../14-libcairo2-dev_1.16.0-5ubuntu2_amd64.deb ...\n",
            "Unpacking libcairo2-dev:amd64 (1.16.0-5ubuntu2) ...\n",
            "Setting up libglib2.0-dev-bin (2.72.4-0ubuntu2.2) ...\n",
            "Setting up libblkid-dev:amd64 (2.37.2-4ubuntu3) ...\n",
            "Setting up libpixman-1-dev:amd64 (0.40.0-1ubuntu0.22.04.1) ...\n",
            "Setting up libice-dev:amd64 (2:1.0.10-1build2) ...\n",
            "Setting up libsm-dev:amd64 (2:1.2.3-1build2) ...\n",
            "Setting up liblzo2-2:amd64 (2.10-2build3) ...\n",
            "Setting up libffi-dev:amd64 (3.4.2-4) ...\n",
            "Setting up libxcb-shm0-dev:amd64 (1.14-3ubuntu3) ...\n",
            "Setting up libsepol-dev:amd64 (3.3-1build1) ...\n",
            "Setting up libxcb-render0-dev:amd64 (1.14-3ubuntu3) ...\n",
            "Setting up libcairo-script-interpreter2:amd64 (1.16.0-5ubuntu2) ...\n",
            "Setting up libselinux1-dev:amd64 (3.3-1build2) ...\n",
            "Setting up libmount-dev:amd64 (2.37.2-4ubuntu3) ...\n",
            "Setting up libglib2.0-dev:amd64 (2.72.4-0ubuntu2.2) ...\n",
            "Processing triggers for libglib2.0-0:amd64 (2.72.4-0ubuntu2.2) ...\n",
            "Processing triggers for libc-bin (2.35-0ubuntu3.4) ...\n",
            "/sbin/ldconfig.real: /usr/local/lib/libtbb.so.12 is not a symbolic link\n",
            "\n",
            "/sbin/ldconfig.real: /usr/local/lib/libtbbbind_2_5.so.3 is not a symbolic link\n",
            "\n",
            "/sbin/ldconfig.real: /usr/local/lib/libtbbmalloc.so.2 is not a symbolic link\n",
            "\n",
            "/sbin/ldconfig.real: /usr/local/lib/libtbbbind_2_0.so.3 is not a symbolic link\n",
            "\n",
            "/sbin/ldconfig.real: /usr/local/lib/libtbbmalloc_proxy.so.2 is not a symbolic link\n",
            "\n",
            "/sbin/ldconfig.real: /usr/local/lib/libtbbbind.so.3 is not a symbolic link\n",
            "\n",
            "Processing triggers for man-db (2.10.2-1) ...\n",
            "Setting up libcairo2-dev:amd64 (1.16.0-5ubuntu2) ...\n",
            "Reading package lists...\n",
            "Building dependency tree...\n",
            "Reading state information...\n",
            "libblkid-dev is already the newest version (2.37.2-4ubuntu3).\n",
            "libblkid-dev set to manually installed.\n",
            "libboost-all-dev is already the newest version (1.74.0.3ubuntu7).\n",
            "cmake is already the newest version (3.22.1-1ubuntu1.22.04.1).\n",
            "The following additional packages will be installed:\n",
            "  libcap-ng-dev\n",
            "Suggested packages:\n",
            "  doc-base\n",
            "The following NEW packages will be installed:\n",
            "  libaudit-dev libcap-ng-dev libext2fs-dev\n",
            "0 upgraded, 3 newly installed, 0 to remove and 31 not upgraded.\n",
            "Need to get 396 kB of archives.\n",
            "After this operation, 1,558 kB of additional disk space will be used.\n",
            "Get:1 http://archive.ubuntu.com/ubuntu jammy/main amd64 libcap-ng-dev amd64 0.7.9-2.2build3 [22.9 kB]\n",
            "Get:2 http://archive.ubuntu.com/ubuntu jammy-updates/main amd64 libext2fs-dev amd64 1.46.5-2ubuntu1.1 [295 kB]\n",
            "Get:3 http://archive.ubuntu.com/ubuntu jammy/main amd64 libaudit-dev amd64 1:3.0.7-1build1 [78.6 kB]\n",
            "Fetched 396 kB in 1s (353 kB/s)\n",
            "Selecting previously unselected package libcap-ng-dev.\n",
            "(Reading database ... 122702 files and directories currently installed.)\n",
            "Preparing to unpack .../libcap-ng-dev_0.7.9-2.2build3_amd64.deb ...\n",
            "Unpacking libcap-ng-dev (0.7.9-2.2build3) ...\n",
            "Selecting previously unselected package libext2fs-dev.\n",
            "Preparing to unpack .../libext2fs-dev_1.46.5-2ubuntu1.1_amd64.deb ...\n",
            "Unpacking libext2fs-dev (1.46.5-2ubuntu1.1) ...\n",
            "Selecting previously unselected package libaudit-dev:amd64.\n",
            "Preparing to unpack .../libaudit-dev_1%3a3.0.7-1build1_amd64.deb ...\n",
            "Unpacking libaudit-dev:amd64 (1:3.0.7-1build1) ...\n",
            "Setting up libcap-ng-dev (0.7.9-2.2build3) ...\n",
            "Setting up libext2fs-dev (1.46.5-2ubuntu1.1) ...\n",
            "Setting up libaudit-dev:amd64 (1:3.0.7-1build1) ...\n",
            "Processing triggers for man-db (2.10.2-1) ...\n"
          ]
        }
      ],
      "source": [
        "!apt-get install libnss3 libnss3-dev --quiet\n",
        "!apt-get install libcairo2-dev libjpeg-dev libgif-dev --quiet\n",
        "!apt-get install cmake libblkid-dev e2fslibs-dev libboost-all-dev libaudit-dev --quiet"
      ]
    },
    {
      "cell_type": "code",
      "execution_count": 4,
      "metadata": {
        "colab": {
          "base_uri": "https://localhost:8080/"
        },
        "id": "uDtXgwQA2Ymh",
        "outputId": "9066c7ea-43b7-493f-c324-90d936e4b727"
      },
      "outputs": [
        {
          "name": "stdout",
          "output_type": "stream",
          "text": [
            "Reading package lists...\n",
            "Building dependency tree...\n",
            "Reading state information...\n",
            "The following NEW packages will be installed:\n",
            "  poppler-utils\n",
            "0 upgraded, 1 newly installed, 0 to remove and 31 not upgraded.\n",
            "Need to get 186 kB of archives.\n",
            "After this operation, 696 kB of additional disk space will be used.\n",
            "Get:1 http://archive.ubuntu.com/ubuntu jammy-updates/main amd64 poppler-utils amd64 22.02.0-2ubuntu0.3 [186 kB]\n",
            "Fetched 186 kB in 1s (221 kB/s)\n",
            "Selecting previously unselected package poppler-utils.\n",
            "(Reading database ... 122804 files and directories currently installed.)\n",
            "Preparing to unpack .../poppler-utils_22.02.0-2ubuntu0.3_amd64.deb ...\n",
            "Unpacking poppler-utils (22.02.0-2ubuntu0.3) ...\n",
            "Setting up poppler-utils (22.02.0-2ubuntu0.3) ...\n",
            "Processing triggers for man-db (2.10.2-1) ...\n"
          ]
        }
      ],
      "source": [
        "!apt-get install poppler-utils --quiet"
      ]
    },
    {
      "cell_type": "code",
      "execution_count": 5,
      "metadata": {
        "id": "dmLpsdJG2Joy"
      },
      "outputs": [],
      "source": [
        "!pip install pdf2image --quiet"
      ]
    },
    {
      "cell_type": "code",
      "execution_count": 14,
      "metadata": {
        "id": "ZZsskTxi1LAM"
      },
      "outputs": [],
      "source": [
        "import numpy as np\n",
        "import matplotlib.pyplot as plt\n",
        "import cv2\n",
        "from PIL import Image\n",
        "from pdf2image import convert_from_path\n",
        "from ultralytics import YOLO\n",
        "import torch\n",
        "import tensorflow as tf\n",
        "import json\n",
        "from paddleocr import PaddleOCR,draw_ocr\n",
        "import time"
      ]
    },
    {
      "cell_type": "code",
      "execution_count": 15,
      "metadata": {
        "id": "IIffYo9t1LC2"
      },
      "outputs": [],
      "source": [
        "def grayscale_image(image):\n",
        "    # Convert the image to grayscale\n",
        "    grayscale_image = image.convert('L')\n",
        "    return grayscale_image"
      ]
    },
    {
      "cell_type": "code",
      "execution_count": 16,
      "metadata": {
        "id": "wHnhaTcd1LFy"
      },
      "outputs": [],
      "source": [
        "def pdf_to_images(pdf_path):\n",
        "    grayscaled_pil_images = []\n",
        "    # Convert PDF to a list of PIL images\n",
        "    images = convert_from_path(pdf_path, dpi=500)#, poppler_path =r'/usr/bin' )\n",
        "    for img in images:\n",
        "        gray_image = grayscale_image(img)\n",
        "        grayscaled_pil_images.append(gray_image)\n",
        "    return grayscaled_pil_images"
      ]
    },
    {
      "cell_type": "code",
      "execution_count": 17,
      "metadata": {
        "id": "4CDAp8ye1QHd"
      },
      "outputs": [],
      "source": [
        "def padding(x1,y1,x2,y2,padding=10):\n",
        "    x1_pad = x1 - padding\n",
        "    y1_pad = y1 - padding\n",
        "    x2_pad = x2 + padding\n",
        "    y2_pad = y2 + padding\n",
        "    return [int(x1_pad), int(y1_pad), int(x2_pad), int(y2_pad)]"
      ]
    },
    {
      "cell_type": "code",
      "execution_count": 18,
      "metadata": {
        "id": "OsRQh3hB1QKJ"
      },
      "outputs": [],
      "source": [
        "def image_localization(images):\n",
        "  model=YOLO('best.pt')\n",
        "  cropped_images=[]\n",
        "  for image in images:\n",
        "    # plt.imshow(np.array(image))\n",
        "    pil_image_array = np.array(image)\n",
        "    image_cv = cv2.cvtColor(pil_image_array, cv2.COLOR_RGB2BGR)\n",
        "    # image_cv=cv2.imread(image)\n",
        "    results = model(image_cv)\n",
        "    for result in results:\n",
        "      boxes=result.boxes\n",
        "      for box in boxes:\n",
        "        x1,y1,x2,y2=box.xyxy[0].cpu().numpy()\n",
        "        x1_pad,y1_pad,x2_pad,y2_pad=padding(x1,y1,x2,y2)\n",
        "        cropped_image = image_cv[y1_pad:y2_pad, x1_pad:x2_pad]\n",
        "        crop_img = cv2.cvtColor(cropped_image, cv2.COLOR_BGR2RGB)\n",
        "        img_pil = Image.fromarray(crop_img)\n",
        "        cropped_images.append(img_pil)\n",
        "  return cropped_images"
      ]
    },
    {
      "cell_type": "code",
      "execution_count": 19,
      "metadata": {
        "id": "nE8HuPR21QMD"
      },
      "outputs": [],
      "source": [
        "def intersection(box_1, box_2):\n",
        "  return [box_2[0], box_1[1],box_2[2], box_1[3]]"
      ]
    },
    {
      "cell_type": "code",
      "execution_count": 20,
      "metadata": {
        "id": "atw-yGxX1QOo"
      },
      "outputs": [],
      "source": [
        "def iou(box_1, box_2):\n",
        "\n",
        "  x_1 = max(box_1[0], box_2[0])\n",
        "  y_1 = max(box_1[1], box_2[1])\n",
        "  x_2 = min(box_1[2], box_2[2])\n",
        "  y_2 = min(box_1[3], box_2[3])\n",
        "\n",
        "  inter = abs(max((x_2 - x_1, 0)) * max((y_2 - y_1), 0))\n",
        "  if inter == 0:\n",
        "      return 0\n",
        "\n",
        "  box_1_area = abs((box_1[2] - box_1[0]) * (box_1[3] - box_1[1]))\n",
        "  box_2_area = abs((box_2[2] - box_2[0]) * (box_2[3] - box_2[1]))\n",
        "\n",
        "  return inter / float(box_1_area + box_2_area - inter)"
      ]
    },
    {
      "cell_type": "code",
      "execution_count": 21,
      "metadata": {
        "id": "idoMZ_6s1YFK"
      },
      "outputs": [],
      "source": [
        "def image_to_text(images):\n",
        "  outputs=[]\n",
        "  ocr=PaddleOCR(lang='en')\n",
        "  for image in images:\n",
        "    pil_image_array = np.array(image)\n",
        "    # Convert RGB to BGR (OpenCV uses BGR by default)\n",
        "    image_cv = cv2.cvtColor(pil_image_array, cv2.COLOR_RGB2BGR)\n",
        "    output=ocr.ocr(image_cv)\n",
        "    boxes = [line[0] for line in output[0]]\n",
        "    texts = [line[1][0] for line in output[0]]\n",
        "    probabilities = [line[1][1] for line in output[0]]\n",
        "    image_height = image_cv.shape[0]\n",
        "    image_width = image_cv.shape[1]\n",
        "    image_boxes = image_cv.copy()\n",
        "    im = image_cv.copy()\n",
        "    horiz_boxes = []\n",
        "    vert_boxes = []\n",
        "\n",
        "    for box in boxes:\n",
        "      x_h, x_v = 0,int(box[0][0])\n",
        "      y_h, y_v = int(box[0][1]),0\n",
        "      width_h,width_v = image_width, int(box[2][0]-box[0][0])\n",
        "      height_h,height_v = int(box[2][1]-box[0][1]),image_height\n",
        "\n",
        "      horiz_boxes.append([x_h,y_h,x_h+width_h,y_h+height_h])\n",
        "      vert_boxes.append([x_v,y_v,x_v+width_v,y_v+height_v])\n",
        "\n",
        "      cv2.rectangle(im,(x_h,y_h), (x_h+width_h,y_h+height_h),(0,0,255),1)\n",
        "      cv2.rectangle(im,(x_v,y_v), (x_v+width_v,y_v+height_v),(0,255,0),1)\n",
        "    #Horizontal Lines\n",
        "    horiz_out = tf.image.non_max_suppression(\n",
        "    horiz_boxes,\n",
        "    probabilities,\n",
        "    max_output_size = 1000,\n",
        "    iou_threshold=0.1,\n",
        "    score_threshold=float('-inf'),\n",
        "    name=None\n",
        "    )\n",
        "    horiz_lines = np.sort(np.array(horiz_out))\n",
        "    #Vertical Lines\n",
        "    vert_out = tf.image.non_max_suppression(\n",
        "    vert_boxes,\n",
        "    probabilities,\n",
        "    max_output_size = 1000,\n",
        "    iou_threshold=0.1,\n",
        "    score_threshold=float('-inf'),\n",
        "    name=None\n",
        "    )\n",
        "    vert_lines = np.sort(np.array(vert_out))\n",
        "\n",
        "    out_array = [[\"\" for i in range(len(vert_lines))] for j in range(len(horiz_lines))]\n",
        "    unordered_boxes = []\n",
        "    for i in vert_lines:\n",
        "      unordered_boxes.append(vert_boxes[i][0])\n",
        "    ordered_boxes = np.argsort(unordered_boxes)\n",
        "    for i in range(len(horiz_lines)):\n",
        "      for j in range(len(vert_lines)):\n",
        "        resultant = intersection(horiz_boxes[horiz_lines[i]], vert_boxes[vert_lines[ordered_boxes[j]]] )\n",
        "        for b in range(len(boxes)):\n",
        "          the_box = [boxes[b][0][0],boxes[b][0][1],boxes[b][2][0],boxes[b][2][1]]\n",
        "          if(iou(resultant,the_box)>0.1):\n",
        "            out_array[i][j] = texts[b]\n",
        "    out_array=np.array(out_array)\n",
        "    outputs.append(out_array)\n",
        "  return np.array(outputs)"
      ]
    },
    {
      "cell_type": "code",
      "execution_count": 22,
      "metadata": {
        "id": "yDncXh9Q1YHj"
      },
      "outputs": [],
      "source": [
        "def jsonify(outputs):\n",
        "    output_json = []\n",
        "\n",
        "    for output in outputs:\n",
        "        dict_list = []\n",
        "\n",
        "        for item in output:\n",
        "            jdict = {\n",
        "                str(i): item[i] for i in range(len(item))\n",
        "            }\n",
        "            dict_list.append(jdict)\n",
        "\n",
        "        output_json.append(dict_list)\n",
        "\n",
        "    return json.dumps(output_json, indent=4)"
      ]
    },
    {
      "cell_type": "code",
      "execution_count": 23,
      "metadata": {
        "id": "5giPaIzM1YJ7"
      },
      "outputs": [],
      "source": [
        "def OCR(input,flag):\n",
        "  if(flag==1):    #If the input is pdf\n",
        "    images=pdf_to_images(input)\n",
        "  else:           #If the input is image\n",
        "    images=input\n",
        "  cropped_images=image_localization(images)\n",
        "  outputs=image_to_text(cropped_images)\n",
        "  json_file=jsonify(outputs)\n",
        "  return json_file"
      ]
    },
    {
      "cell_type": "code",
      "execution_count": 24,
      "metadata": {
        "colab": {
          "base_uri": "https://localhost:8080/",
          "height": 1000
        },
        "id": "W9GppDxC1YMf",
        "outputId": "0f128e7e-08af-45cc-dc6e-e02edd5e9da3"
      },
      "outputs": [
        {
          "name": "stdout",
          "output_type": "stream",
          "text": [
            "\n",
            "0: 640x448 2 tabless, 146.4ms\n",
            "Speed: 7.8ms preprocess, 146.4ms inference, 0.9ms postprocess per image at shape (1, 3, 640, 448)\n",
            "\n",
            "0: 640x448 (no detections), 183.3ms\n",
            "Speed: 7.2ms preprocess, 183.3ms inference, 0.7ms postprocess per image at shape (1, 3, 640, 448)\n",
            "\n",
            "0: 640x448 1 tables, 152.7ms\n",
            "Speed: 6.6ms preprocess, 152.7ms inference, 0.8ms postprocess per image at shape (1, 3, 640, 448)\n",
            "\n",
            "0: 640x448 1 tables, 155.9ms\n",
            "Speed: 5.7ms preprocess, 155.9ms inference, 0.8ms postprocess per image at shape (1, 3, 640, 448)\n",
            "\n",
            "0: 640x448 1 tables, 149.6ms\n",
            "Speed: 6.8ms preprocess, 149.6ms inference, 0.9ms postprocess per image at shape (1, 3, 640, 448)\n",
            "\n",
            "0: 640x448 1 tables, 146.1ms\n",
            "Speed: 6.9ms preprocess, 146.1ms inference, 0.8ms postprocess per image at shape (1, 3, 640, 448)\n",
            "\n",
            "0: 640x448 (no detections), 178.7ms\n",
            "Speed: 7.2ms preprocess, 178.7ms inference, 0.7ms postprocess per image at shape (1, 3, 640, 448)\n",
            "\n",
            "0: 640x448 1 tables, 146.2ms\n",
            "Speed: 6.3ms preprocess, 146.2ms inference, 0.9ms postprocess per image at shape (1, 3, 640, 448)\n",
            "\n",
            "0: 640x448 1 tables, 147.5ms\n",
            "Speed: 7.5ms preprocess, 147.5ms inference, 0.9ms postprocess per image at shape (1, 3, 640, 448)\n",
            "\n",
            "0: 640x448 1 tables, 152.0ms\n",
            "Speed: 6.4ms preprocess, 152.0ms inference, 0.7ms postprocess per image at shape (1, 3, 640, 448)\n",
            "\n",
            "0: 640x448 1 tables, 144.9ms\n",
            "Speed: 5.8ms preprocess, 144.9ms inference, 0.9ms postprocess per image at shape (1, 3, 640, 448)\n",
            "[2024/02/01 11:18:07] ppocr DEBUG: Namespace(alpha=1.0, alphacolor=(255, 255, 255), benchmark=False, beta=1.0, binarize=False, cls_batch_num=6, cls_image_shape='3, 48, 192', cls_model_dir='/home/yuvraj/.paddleocr/whl/cls/ch_ppocr_mobile_v2.0_cls_infer', cls_thresh=0.9, cpu_threads=10, crop_res_save_dir='./output', det=True, det_algorithm='DB', det_box_type='quad', det_db_box_thresh=0.6, det_db_score_mode='fast', det_db_thresh=0.3, det_db_unclip_ratio=1.5, det_east_cover_thresh=0.1, det_east_nms_thresh=0.2, det_east_score_thresh=0.8, det_limit_side_len=960, det_limit_type='max', det_model_dir='/home/yuvraj/.paddleocr/whl/det/en/en_PP-OCRv3_det_infer', det_pse_box_thresh=0.85, det_pse_min_area=16, det_pse_scale=1, det_pse_thresh=0, det_sast_nms_thresh=0.2, det_sast_score_thresh=0.5, draw_img_save_dir='./inference_results', drop_score=0.5, e2e_algorithm='PGNet', e2e_char_dict_path='./ppocr/utils/ic15_dict.txt', e2e_limit_side_len=768, e2e_limit_type='max', e2e_model_dir=None, e2e_pgnet_mode='fast', e2e_pgnet_score_thresh=0.5, e2e_pgnet_valid_set='totaltext', enable_mkldnn=False, fourier_degree=5, gpu_id=0, gpu_mem=500, help='==SUPPRESS==', image_dir=None, image_orientation=False, invert=False, ir_optim=True, kie_algorithm='LayoutXLM', label_list=['0', '180'], lang='en', layout=True, layout_dict_path=None, layout_model_dir=None, layout_nms_threshold=0.5, layout_score_threshold=0.5, max_batch_size=10, max_text_length=25, merge_no_span_structure=True, min_subgraph_size=15, mode='structure', ocr=True, ocr_order_method=None, ocr_version='PP-OCRv4', output='./output', page_num=0, precision='fp32', process_id=0, re_model_dir=None, rec=True, rec_algorithm='SVTR_LCNet', rec_batch_num=6, rec_char_dict_path='/home/yuvraj/.local/lib/python3.8/site-packages/paddleocr/ppocr/utils/en_dict.txt', rec_image_inverse=True, rec_image_shape='3, 48, 320', rec_model_dir='/home/yuvraj/.paddleocr/whl/rec/en/en_PP-OCRv4_rec_infer', recovery=False, save_crop_res=False, save_log_path='./log_output/', scales=[8, 16, 32], ser_dict_path='../train_data/XFUND/class_list_xfun.txt', ser_model_dir=None, show_log=True, sr_batch_num=1, sr_image_shape='3, 32, 128', sr_model_dir=None, structure_version='PP-StructureV2', table=True, table_algorithm='TableAttn', table_char_dict_path=None, table_max_len=488, table_model_dir=None, total_process_num=1, type='ocr', use_angle_cls=False, use_dilation=False, use_gpu=False, use_mp=False, use_npu=False, use_onnx=False, use_pdf2docx_api=False, use_pdserving=False, use_space_char=True, use_tensorrt=False, use_visual_backbone=True, use_xpu=False, vis_font_path='./doc/fonts/simfang.ttf', warmup=False)\n",
            "[2024/02/01 11:18:08] ppocr WARNING: Since the angle classifier is not initialized, it will not be used during the forward process\n",
            "[2024/02/01 11:18:08] ppocr DEBUG: dt_boxes num : 80, elapsed : 0.29284191131591797\n",
            "[2024/02/01 11:18:10] ppocr DEBUG: rec_res num  : 80, elapsed : 1.7301595211029053\n",
            "[2024/02/01 11:18:10] ppocr WARNING: Since the angle classifier is not initialized, it will not be used during the forward process\n",
            "[2024/02/01 11:18:10] ppocr DEBUG: dt_boxes num : 4, elapsed : 0.039293766021728516\n",
            "[2024/02/01 11:18:10] ppocr DEBUG: rec_res num  : 4, elapsed : 0.13370633125305176\n",
            "[2024/02/01 11:18:10] ppocr WARNING: Since the angle classifier is not initialized, it will not be used during the forward process\n",
            "[2024/02/01 11:18:11] ppocr DEBUG: dt_boxes num : 93, elapsed : 0.3573629856109619\n",
            "[2024/02/01 11:18:13] ppocr DEBUG: rec_res num  : 93, elapsed : 1.748938798904419\n",
            "[2024/02/01 11:18:13] ppocr WARNING: Since the angle classifier is not initialized, it will not be used during the forward process\n",
            "[2024/02/01 11:18:13] ppocr DEBUG: dt_boxes num : 13, elapsed : 0.11475038528442383\n",
            "[2024/02/01 11:18:14] ppocr DEBUG: rec_res num  : 13, elapsed : 0.732856035232544\n",
            "[2024/02/01 11:18:14] ppocr WARNING: Since the angle classifier is not initialized, it will not be used during the forward process\n",
            "[2024/02/01 11:18:14] ppocr DEBUG: dt_boxes num : 24, elapsed : 0.1622610092163086\n",
            "[2024/02/01 11:18:15] ppocr DEBUG: rec_res num  : 24, elapsed : 1.0355224609375\n",
            "[2024/02/01 11:18:15] ppocr WARNING: Since the angle classifier is not initialized, it will not be used during the forward process\n",
            "[2024/02/01 11:18:15] ppocr DEBUG: dt_boxes num : 35, elapsed : 0.23699569702148438\n",
            "[2024/02/01 11:18:16] ppocr DEBUG: rec_res num  : 35, elapsed : 1.090590238571167\n",
            "[2024/02/01 11:18:16] ppocr WARNING: Since the angle classifier is not initialized, it will not be used during the forward process\n",
            "[2024/02/01 11:18:17] ppocr DEBUG: dt_boxes num : 58, elapsed : 0.280789852142334\n",
            "[2024/02/01 11:18:18] ppocr DEBUG: rec_res num  : 58, elapsed : 1.4161791801452637\n",
            "[2024/02/01 11:18:18] ppocr WARNING: Since the angle classifier is not initialized, it will not be used during the forward process\n",
            "[2024/02/01 11:18:18] ppocr DEBUG: dt_boxes num : 7, elapsed : 0.09627580642700195\n",
            "[2024/02/01 11:18:19] ppocr DEBUG: rec_res num  : 7, elapsed : 0.526254415512085\n",
            "[2024/02/01 11:18:19] ppocr WARNING: Since the angle classifier is not initialized, it will not be used during the forward process\n",
            "[2024/02/01 11:18:19] ppocr DEBUG: dt_boxes num : 7, elapsed : 0.036962032318115234\n",
            "[2024/02/01 11:18:19] ppocr DEBUG: rec_res num  : 7, elapsed : 0.6076750755310059\n",
            "[2024/02/01 11:18:20] ppocr WARNING: Since the angle classifier is not initialized, it will not be used during the forward process\n",
            "[2024/02/01 11:18:20] ppocr DEBUG: dt_boxes num : 5, elapsed : 0.07084441184997559\n",
            "[2024/02/01 11:18:20] ppocr DEBUG: rec_res num  : 5, elapsed : 0.1705937385559082\n"
          ]
        },
        {
          "ename": "ValueError",
          "evalue": "setting an array element with a sequence. The requested array has an inhomogeneous shape after 1 dimensions. The detected shape was (10,) + inhomogeneous part.",
          "output_type": "error",
          "traceback": [
            "\u001b[0;31m---------------------------------------------------------------------------\u001b[0m",
            "\u001b[0;31mValueError\u001b[0m                                Traceback (most recent call last)",
            "File \u001b[0;32m<timed eval>:1\u001b[0m\n",
            "Cell \u001b[0;32mIn[23], line 7\u001b[0m, in \u001b[0;36mOCR\u001b[0;34m(input, flag)\u001b[0m\n\u001b[1;32m      5\u001b[0m   images\u001b[38;5;241m=\u001b[39m\u001b[38;5;28minput\u001b[39m\n\u001b[1;32m      6\u001b[0m cropped_images\u001b[38;5;241m=\u001b[39mimage_localization(images)\n\u001b[0;32m----> 7\u001b[0m outputs\u001b[38;5;241m=\u001b[39m\u001b[43mimage_to_text\u001b[49m\u001b[43m(\u001b[49m\u001b[43mcropped_images\u001b[49m\u001b[43m)\u001b[49m\n\u001b[1;32m      8\u001b[0m json_file\u001b[38;5;241m=\u001b[39mjsonify(outputs)\n\u001b[1;32m      9\u001b[0m \u001b[38;5;28;01mreturn\u001b[39;00m json_file\n",
            "Cell \u001b[0;32mIn[21], line 65\u001b[0m, in \u001b[0;36mimage_to_text\u001b[0;34m(images)\u001b[0m\n\u001b[1;32m     63\u001b[0m   out_array\u001b[38;5;241m=\u001b[39mnp\u001b[38;5;241m.\u001b[39marray(out_array)\n\u001b[1;32m     64\u001b[0m   outputs\u001b[38;5;241m.\u001b[39mappend(out_array)\n\u001b[0;32m---> 65\u001b[0m \u001b[38;5;28;01mreturn\u001b[39;00m \u001b[43mnp\u001b[49m\u001b[38;5;241;43m.\u001b[39;49m\u001b[43marray\u001b[49m\u001b[43m(\u001b[49m\u001b[43moutputs\u001b[49m\u001b[43m)\u001b[49m\n",
            "\u001b[0;31mValueError\u001b[0m: setting an array element with a sequence. The requested array has an inhomogeneous shape after 1 dimensions. The detected shape was (10,) + inhomogeneous part."
          ]
        }
      ],
      "source": [
        "%%time\n",
        "OCR('pdf1.pdf',1)"
      ]
    },
    {
      "cell_type": "code",
      "execution_count": null,
      "metadata": {
        "id": "SggIAaTE1QRx"
      },
      "outputs": [],
      "source": []
    }
  ],
  "metadata": {
    "colab": {
      "provenance": []
    },
    "kernelspec": {
      "display_name": "Python 3",
      "name": "python3"
    },
    "language_info": {
      "codemirror_mode": {
        "name": "ipython",
        "version": 3
      },
      "file_extension": ".py",
      "mimetype": "text/x-python",
      "name": "python",
      "nbconvert_exporter": "python",
      "pygments_lexer": "ipython3",
      "version": "3.8.10"
    }
  },
  "nbformat": 4,
  "nbformat_minor": 0
}
